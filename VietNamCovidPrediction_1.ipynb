{
 "cells": [
  {
   "cell_type": "code",
   "execution_count": null,
   "id": "0cf2a2ea",
   "metadata": {},
   "outputs": [],
   "source": [
    "import pandas as pd\n",
    "import numpy as np\n",
    "\n",
    "import matplotlib.pyplot as plt\n",
    "import seaborn as sns\n",
    "sns.set_style('whitegrid')\n",
    "plt.style.use(\"fivethirtyeight\")\n",
    "%matplotlib inline\n",
    "\n",
    "# For reading stock data from yahoo\n",
    "from pandas_datareader.data import DataReader\n",
    "\n",
    "# For time stamps\n",
    "from datetime import datetime\n",
    "\n",
    "model_save_path = './PredictModel/vietnam_covid_predict.hdf5'\n",
    "DATA_PATH = [\n",
    "    './Data/1_Hà Nội_covid_data.csv', \n",
    "    './Data/2_TP HCM_covid_data.csv',\n",
    "    './Data/3_Hải Phòng_covid_data.csv',\n",
    "    './Data/4_Đà Nẵng_covid_data.csv',\n",
    "    './Data/55_Cần Thơ_covid_data.csv',\n",
    "]"
   ]
  },
  {
   "cell_type": "markdown",
   "id": "55fea0c4",
   "metadata": {},
   "source": [
    "# Data visualizing"
   ]
  },
  {
   "cell_type": "code",
   "execution_count": null,
   "id": "068142ef",
   "metadata": {},
   "outputs": [],
   "source": [
    "df = [None] * len(DATA_PATH)\n",
    "for path in range(len(DATA_PATH)):\n",
    "    df[path] = pd.read_csv(DATA_PATH[path])\n",
    "    df[path].drop(df[path].tail(26).index,inplace=True)\n",
    "    for idx in range(len(df[path].index)):\n",
    "        df[path].iat[idx, 0] = datetime.strptime(df[path].iat[idx, 0], '%Y-%m-%d %H:%M:%S')\n",
    "    df[path] = df[path].sort_values(by=['date'])\n",
    "    df[path] = df[path].drop(columns=['Unnamed: 9'])"
   ]
  },
  {
   "cell_type": "code",
   "execution_count": null,
   "id": "381cbacb",
   "metadata": {},
   "outputs": [],
   "source": [
    "df[0].tail(20)"
   ]
  },
  {
   "cell_type": "code",
   "execution_count": null,
   "id": "64c27a59",
   "metadata": {},
   "outputs": [],
   "source": [
    "df[1].tail(20)"
   ]
  },
  {
   "cell_type": "code",
   "execution_count": null,
   "id": "b80cbf5b",
   "metadata": {},
   "outputs": [],
   "source": [
    "df[2].tail(20)"
   ]
  },
  {
   "cell_type": "code",
   "execution_count": null,
   "id": "7fa21c70",
   "metadata": {},
   "outputs": [],
   "source": [
    "df[3].tail(20)"
   ]
  },
  {
   "cell_type": "code",
   "execution_count": null,
   "id": "8343bc12",
   "metadata": {},
   "outputs": [],
   "source": [
    "df[4].tail(20)"
   ]
  },
  {
   "cell_type": "code",
   "execution_count": null,
   "id": "c53503bf",
   "metadata": {},
   "outputs": [],
   "source": [
    "# Summary Stats\n",
    "df[0].describe()"
   ]
  },
  {
   "cell_type": "code",
   "execution_count": null,
   "id": "a229a4ca",
   "metadata": {},
   "outputs": [],
   "source": [
    "# Summary Stats\n",
    "df[1].describe()"
   ]
  },
  {
   "cell_type": "code",
   "execution_count": null,
   "id": "9ceaa573",
   "metadata": {},
   "outputs": [],
   "source": [
    "# Summary Stats\n",
    "df[2].describe()"
   ]
  },
  {
   "cell_type": "code",
   "execution_count": null,
   "id": "7baf4be9",
   "metadata": {},
   "outputs": [],
   "source": [
    "# Summary Stats\n",
    "df[3].describe()"
   ]
  },
  {
   "cell_type": "code",
   "execution_count": null,
   "id": "08bb9011",
   "metadata": {},
   "outputs": [],
   "source": [
    "# Summary Stats\n",
    "df[4].describe()"
   ]
  },
  {
   "cell_type": "code",
   "execution_count": null,
   "id": "acf526db",
   "metadata": {},
   "outputs": [],
   "source": [
    "df_filtered = [None] * len(DATA_PATH)\n",
    "for path in range(len(DATA_PATH)):\n",
    "    df_filtered[path] = df[path][df[path]['date'] >= datetime.strptime('1/1/2021 00:00', '%m/%d/%Y %H:%M')]"
   ]
  },
  {
   "cell_type": "code",
   "execution_count": null,
   "id": "0ea683ea",
   "metadata": {},
   "outputs": [],
   "source": [
    "df_filtered[0].plot(x ='date', y='case_by_day', kind = 'line')"
   ]
  },
  {
   "cell_type": "code",
   "execution_count": null,
   "id": "eea9db5c",
   "metadata": {},
   "outputs": [],
   "source": [
    "df_filtered[1].plot(x ='date', y='case_by_day', kind = 'line')"
   ]
  },
  {
   "cell_type": "code",
   "execution_count": null,
   "id": "810399b6",
   "metadata": {},
   "outputs": [],
   "source": [
    "df_filtered[2].plot(x ='date', y='case_by_day', kind = 'line')"
   ]
  },
  {
   "cell_type": "code",
   "execution_count": null,
   "id": "aab63002",
   "metadata": {},
   "outputs": [],
   "source": [
    "df_filtered[3].plot(x ='date', y='case_by_day', kind = 'line')"
   ]
  },
  {
   "cell_type": "code",
   "execution_count": null,
   "id": "b76348d5",
   "metadata": {},
   "outputs": [],
   "source": [
    "df_filtered[4].plot(x ='date', y='case_by_day', kind = 'line')"
   ]
  },
  {
   "cell_type": "markdown",
   "id": "3a069ecd",
   "metadata": {},
   "source": [
    "# Predicting case by day"
   ]
  },
  {
   "cell_type": "code",
   "execution_count": null,
   "id": "89bd187c",
   "metadata": {},
   "outputs": [],
   "source": [
    "new_df = [None] * len(DATA_PATH)\n",
    "for path in range(len(DATA_PATH)):\n",
    "    new_df[path] = df_filtered[path].set_index('date')"
   ]
  },
  {
   "cell_type": "code",
   "execution_count": null,
   "id": "d3c314eb",
   "metadata": {},
   "outputs": [],
   "source": [
    "plt.figure(figsize=(16,6))\n",
    "plt.title('Case By Day')\n",
    "plt.plot(new_df[0]['case_by_day'])\n",
    "plt.xlabel('Case', fontsize=18)\n",
    "plt.ylabel('Time', fontsize=18)\n",
    "plt.show()"
   ]
  },
  {
   "cell_type": "code",
   "execution_count": null,
   "id": "c548e813",
   "metadata": {},
   "outputs": [],
   "source": [
    "plt.figure(figsize=(16,6))\n",
    "plt.title('Case By Day')\n",
    "plt.plot(new_df[1]['case_by_day'])\n",
    "plt.xlabel('Case', fontsize=18)\n",
    "plt.ylabel('Time', fontsize=18)\n",
    "plt.show()"
   ]
  },
  {
   "cell_type": "code",
   "execution_count": null,
   "id": "b3bdf7b2",
   "metadata": {},
   "outputs": [],
   "source": [
    "plt.figure(figsize=(16,6))\n",
    "plt.title('Case By Day')\n",
    "plt.plot(new_df[2]['case_by_day'])\n",
    "plt.xlabel('Case', fontsize=18)\n",
    "plt.ylabel('Time', fontsize=18)\n",
    "plt.show()"
   ]
  },
  {
   "cell_type": "code",
   "execution_count": null,
   "id": "aeb0ac6c",
   "metadata": {},
   "outputs": [],
   "source": [
    "plt.figure(figsize=(16,6))\n",
    "plt.title('Case By Day')\n",
    "plt.plot(new_df[3]['case_by_day'])\n",
    "plt.xlabel('Case', fontsize=18)\n",
    "plt.ylabel('Time', fontsize=18)\n",
    "plt.show()"
   ]
  },
  {
   "cell_type": "code",
   "execution_count": null,
   "id": "35443151",
   "metadata": {},
   "outputs": [],
   "source": [
    "plt.figure(figsize=(16,6))\n",
    "plt.title('Case By Day')\n",
    "plt.plot(new_df[4]['case_by_day'])\n",
    "plt.xlabel('Case', fontsize=18)\n",
    "plt.ylabel('Time', fontsize=18)\n",
    "plt.show()"
   ]
  },
  {
   "cell_type": "code",
   "execution_count": null,
   "id": "1e419ef7",
   "metadata": {},
   "outputs": [],
   "source": [
    "data = [None] * len(DATA_PATH)\n",
    "dataset = [None] * len(DATA_PATH)\n",
    "training_data_len = [None] * len(DATA_PATH)\n",
    "for path in range(len(DATA_PATH)):\n",
    "    # Create a new dataframe with only the 'Close column \n",
    "    data[path] = new_df[path].filter(['case_by_day'])\n",
    "    # Convert the dataframe to a numpy array\n",
    "    dataset[path] = data[path].values\n",
    "    # Get the number of rows to train the model on\n",
    "    # training_data_len[path] = int(np.ceil(len(dataset[path]) * .95 ))\n",
    "    training_data_len[path] = len(dataset[path]) - 30\n",
    "    print(training_data_len[path])"
   ]
  },
  {
   "cell_type": "code",
   "execution_count": null,
   "id": "4fe5dcea",
   "metadata": {},
   "outputs": [],
   "source": [
    "# Scale the data\n",
    "from sklearn.preprocessing import MinMaxScaler\n",
    "from sklearn.model_selection import train_test_split\n",
    "\n",
    "scaler = MinMaxScaler(feature_range=(0,1))\n",
    "scaled_data = [None] * len(DATA_PATH)\n",
    "for path in range(len(DATA_PATH)):\n",
    "    scaled_data[path] = scaler.fit_transform(dataset[path])\n",
    "\n",
    "scaled_data"
   ]
  },
  {
   "cell_type": "code",
   "execution_count": null,
   "id": "a8bcdb4d",
   "metadata": {},
   "outputs": [],
   "source": [
    "DATA_LEN = 60\n",
    "train_data = [None] * len(DATA_PATH)\n",
    "test_data = [None] * len(DATA_PATH)\n",
    "x_train = [None] * len(DATA_PATH)\n",
    "y_train = [None] * len(DATA_PATH)\n",
    "x_test = [None] * len(DATA_PATH)\n",
    "y_test = [None] * len(DATA_PATH)\n",
    "for path in range(len(DATA_PATH)):\n",
    "    # Create the training data set \n",
    "    # Create the scaled training data set\n",
    "    train_data[path] = scaled_data[path][0:int(training_data_len[path]), :]\n",
    "    # Split the data into x_train and y_train data sets\n",
    "    x_train[path] = []\n",
    "    y_train[path] = []\n",
    "\n",
    "    for idx in range(DATA_LEN, len(train_data[path])):\n",
    "        x_train[path].append(train_data[path][idx - DATA_LEN: idx, 0])\n",
    "        y_train[path].append(train_data[path][idx, 0])\n",
    "\n",
    "    # Convert the x_train and y_train to numpy arrays \n",
    "    x_train[path], y_train[path] = np.array(x_train[path]), np.array(y_train[path])\n",
    "\n",
    "    # Reshape the data\n",
    "    x_train[path] = np.reshape(x_train[path], (x_train[path].shape[0], x_train[path].shape[1], 1))\n",
    "    \n",
    "    # Create the testing data set\n",
    "    test_data[path] = scaled_data[path][training_data_len[path] - DATA_LEN: , :]\n",
    "    # Create the data sets x_test and y_test\n",
    "    x_test[path] = []\n",
    "    y_test[path] = dataset[path][training_data_len[path]:, :]\n",
    "    for i in range(DATA_LEN, len(test_data[path])):\n",
    "        x_test[path].append(test_data[path][i - DATA_LEN: i, 0])\n",
    "\n",
    "    # Convert the data to a numpy array\n",
    "    x_test[path], y_test[path] = np.array(x_test[path]), np.array(y_test[path])\n",
    "\n",
    "    # Reshape the data\n",
    "    x_test[path] = np.reshape(x_test[path], (x_test[path].shape[0], x_test[path].shape[1], 1 ))\n",
    "    \n",
    "x_train, y_train, x_test, y_test"
   ]
  },
  {
   "cell_type": "code",
   "execution_count": null,
   "id": "9c4df16c",
   "metadata": {},
   "outputs": [],
   "source": [
    "from functools import reduce\n",
    "\n",
    "X_train = x_train[0] if len(DATA_PATH) == 1 else reduce(lambda x, y: x + y, x_train[1:], x_train[0])\n",
    "Y_train = y_train[0] if len(DATA_PATH) == 1 else reduce(lambda x, y: x + y, y_train[1:], y_train[0])\n",
    "X_test = x_test[0] if len(DATA_PATH) == 1 else reduce(lambda x, y: x + y, x_test[1:], x_test[0])\n",
    "Y_test = y_test[0] if len(DATA_PATH) == 1 else reduce(lambda x, y: x + y, y_test[1:], y_test[0])"
   ]
  },
  {
   "cell_type": "code",
   "execution_count": null,
   "id": "7e3ea157",
   "metadata": {},
   "outputs": [],
   "source": [
    "import tensorflow as tf\n",
    "from keras.models import Sequential\n",
    "from keras.layers import Dense, LSTM, Dropout\n",
    "from keras.utils.vis_utils import plot_model\n",
    "#from tensorflow.keras.utils import plot_model\n",
    "\n",
    "# Build the LSTM model\n",
    "model = Sequential() \n",
    "model.add(LSTM(30, return_sequences=True, input_shape=(DATA_LEN, 1)))\n",
    "model.add(LSTM(20, return_sequences=False))\n",
    "model.add(Dense(10))\n",
    "model.add(Dense(1))\n",
    "\n",
    "# Compile the model\n",
    "model.compile(optimizer='adam', loss='mean_squared_error')"
   ]
  },
  {
   "cell_type": "code",
   "execution_count": null,
   "id": "bb17c40f",
   "metadata": {},
   "outputs": [],
   "source": [
    "model.summary()  # tf.keras.utils.plot_model(model, show_shapes=True)"
   ]
  },
  {
   "cell_type": "code",
   "execution_count": null,
   "id": "cc4c1309",
   "metadata": {},
   "outputs": [],
   "source": [
    "# Train the model\n",
    "model.fit(\n",
    "    X_train, \n",
    "    Y_train, \n",
    "    batch_size=8, \n",
    "    epochs=50,\n",
    "    validation_data=(X_test, Y_test)\n",
    ")"
   ]
  },
  {
   "cell_type": "code",
   "execution_count": null,
   "id": "4a313e2b",
   "metadata": {},
   "outputs": [],
   "source": [
    "predictions = [None] * len(DATA_PATH)\n",
    "for path in range(len(DATA_PATH)):\n",
    "    # Get the models predicted price values\n",
    "    predictions[path] = model.predict(x_test[path])\n",
    "    predictions[path] = scaler.inverse_transform(predictions[path])\n",
    "\n",
    "    # Get the root mean squared error (RMSE)\n",
    "    rmse = np.sqrt(np.mean(((predictions[path] - y_test[path]) ** 2)))\n",
    "    print(rmse)"
   ]
  },
  {
   "cell_type": "code",
   "execution_count": null,
   "id": "8d721258",
   "metadata": {},
   "outputs": [],
   "source": [
    "val_loss = model.evaluate(X_test, Y_test, batch_size=8)"
   ]
  },
  {
   "cell_type": "code",
   "execution_count": null,
   "id": "d98912cc",
   "metadata": {},
   "outputs": [],
   "source": [
    "train = [None] * len(DATA_PATH)\n",
    "valid = [None] * len(DATA_PATH)\n",
    "for path in range(len(DATA_PATH)):\n",
    "    train[path] = data[path][:training_data_len[path]]\n",
    "    valid[path] = data[path][training_data_len[path]:]\n",
    "    # valid[path]['case_by_day_predict'] = predictions[path]\n",
    "    valid[path].insert(1, 'case_by_day_predict', predictions[path])"
   ]
  },
  {
   "cell_type": "code",
   "execution_count": null,
   "id": "4c40a172",
   "metadata": {},
   "outputs": [],
   "source": [
    "for path in range(len(DATA_PATH)):\n",
    "    for idx in range(len(valid[path].index)):\n",
    "        valid[path].iat[idx, 0] = 0 if valid[path].iat[idx, 0] < 0 else valid[path].iat[idx, 0]\n",
    "        valid[path].iat[idx, 1] = 0 if valid[path].iat[idx, 1] < 0 else valid[path].iat[idx, 1]"
   ]
  },
  {
   "cell_type": "code",
   "execution_count": null,
   "id": "94aa864c",
   "metadata": {},
   "outputs": [],
   "source": [
    "# Plot the data\n",
    "plt.figure(figsize=(16,6))\n",
    "plt.title('Model')\n",
    "plt.xlabel('Date', fontsize=18)\n",
    "plt.ylabel('Case by day', fontsize=18)\n",
    "plt.plot(train[0]['case_by_day'])\n",
    "plt.plot(valid[0][['case_by_day', 'case_by_day_predict']])\n",
    "plt.legend(['Train', 'Val', 'Predictions'], loc='lower right')\n",
    "plt.show()"
   ]
  },
  {
   "cell_type": "code",
   "execution_count": null,
   "id": "f8d9d78a",
   "metadata": {},
   "outputs": [],
   "source": [
    "# Show the valid and predicted prices\n",
    "valid[0]"
   ]
  },
  {
   "cell_type": "code",
   "execution_count": null,
   "id": "abd5dad5",
   "metadata": {},
   "outputs": [],
   "source": [
    "# Plot the data\n",
    "plt.figure(figsize=(16,6))\n",
    "plt.title('Model')\n",
    "plt.xlabel('Date', fontsize=18)\n",
    "plt.ylabel('Case by day', fontsize=18)\n",
    "plt.plot(train[1]['case_by_day'])\n",
    "plt.plot(valid[1][['case_by_day', 'case_by_day_predict']])\n",
    "plt.legend(['Train', 'Val', 'Predictions'], loc='lower right')\n",
    "plt.show()"
   ]
  },
  {
   "cell_type": "code",
   "execution_count": null,
   "id": "def8be59",
   "metadata": {},
   "outputs": [],
   "source": [
    "# Show the valid and predicted prices\n",
    "valid[1]"
   ]
  },
  {
   "cell_type": "code",
   "execution_count": null,
   "id": "c3b6d5bf",
   "metadata": {},
   "outputs": [],
   "source": [
    "# Plot the data\n",
    "plt.figure(figsize=(16,6))\n",
    "plt.title('Model')\n",
    "plt.xlabel('Date', fontsize=18)\n",
    "plt.ylabel('Case by day', fontsize=18)\n",
    "plt.plot(train[2]['case_by_day'])\n",
    "plt.plot(valid[2][['case_by_day', 'case_by_day_predict']])\n",
    "plt.legend(['Train', 'Val', 'Predictions'], loc='lower right')\n",
    "plt.show()"
   ]
  },
  {
   "cell_type": "code",
   "execution_count": null,
   "id": "d3aefa55",
   "metadata": {},
   "outputs": [],
   "source": [
    "# Show the valid and predicted prices\n",
    "valid[2]"
   ]
  },
  {
   "cell_type": "code",
   "execution_count": null,
   "id": "4747becc",
   "metadata": {},
   "outputs": [],
   "source": [
    "# Plot the data\n",
    "plt.figure(figsize=(16,6))\n",
    "plt.title('Model')\n",
    "plt.xlabel('Date', fontsize=18)\n",
    "plt.ylabel('Case by day', fontsize=18)\n",
    "plt.plot(train[3]['case_by_day'])\n",
    "plt.plot(valid[3][['case_by_day', 'case_by_day_predict']])\n",
    "plt.legend(['Train', 'Val', 'Predictions'], loc='lower right')\n",
    "plt.show()"
   ]
  },
  {
   "cell_type": "code",
   "execution_count": null,
   "id": "60b6d926",
   "metadata": {},
   "outputs": [],
   "source": [
    "# Show the valid and predicted prices\n",
    "valid[3]"
   ]
  },
  {
   "cell_type": "code",
   "execution_count": null,
   "id": "23e59881",
   "metadata": {},
   "outputs": [],
   "source": [
    "# Plot the data\n",
    "plt.figure(figsize=(16,6))\n",
    "plt.title('Model')\n",
    "plt.xlabel('Date', fontsize=18)\n",
    "plt.ylabel('Case by day', fontsize=18)\n",
    "plt.plot(train[4]['case_by_day'])\n",
    "plt.plot(valid[4][['case_by_day', 'case_by_day_predict']])\n",
    "plt.legend(['Train', 'Val', 'Predictions'], loc='lower right')\n",
    "plt.show()"
   ]
  },
  {
   "cell_type": "code",
   "execution_count": null,
   "id": "f117a4ca",
   "metadata": {},
   "outputs": [],
   "source": [
    "# Show the valid and predicted prices\n",
    "valid[4]"
   ]
  },
  {
   "cell_type": "code",
   "execution_count": null,
   "id": "fe43e622",
   "metadata": {},
   "outputs": [],
   "source": [
    "model.save(model_save_path, include_optimizer=False)"
   ]
  },
  {
   "cell_type": "code",
   "execution_count": null,
   "id": "00a94856",
   "metadata": {},
   "outputs": [],
   "source": []
  }
 ],
 "metadata": {
  "kernelspec": {
   "display_name": "Python 3",
   "language": "python",
   "name": "python3"
  },
  "language_info": {
   "codemirror_mode": {
    "name": "ipython",
    "version": 3
   },
   "file_extension": ".py",
   "mimetype": "text/x-python",
   "name": "python",
   "nbconvert_exporter": "python",
   "pygments_lexer": "ipython3",
   "version": "3.9.2"
  }
 },
 "nbformat": 4,
 "nbformat_minor": 5
}
